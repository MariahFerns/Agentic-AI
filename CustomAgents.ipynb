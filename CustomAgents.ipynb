{
  "cells": [
    {
      "cell_type": "markdown",
      "source": [
        "#Agent in langchain (guy)\n",
        "\n",
        "LLM -> brain langchain agent\n",
        "\n",
        "Tools  -> interacts with stock market index thru an api\n",
        "query against a database\n",
        "methods/classes\n",
        "langchain provides some tools\n",
        "create your own tools as well\n",
        "\n",
        "\n",
        "LLM  -> ask it a question -> another question\n",
        "\n",
        "agent is a way to run your llm in a loop in order to complete a task\n",
        "\n",
        "agenttype\n",
        "LLM\n",
        "Tools"
      ],
      "metadata": {
        "id": "FwiTxqq7Dz6X"
      },
      "id": "FwiTxqq7Dz6X"
    },
    {
      "cell_type": "code",
      "execution_count": null,
      "id": "d92cee5c-17a4-42eb-8779-9905d1c0ded5",
      "metadata": {
        "id": "d92cee5c-17a4-42eb-8779-9905d1c0ded5"
      },
      "outputs": [],
      "source": [
        "from langchain_core.tools import tool #decorator"
      ]
    },
    {
      "cell_type": "markdown",
      "source": [
        "Decorator:\n",
        "- special function that add some extra functionality to original function"
      ],
      "metadata": {
        "id": "-pxlsBC_Ev5W"
      },
      "id": "-pxlsBC_Ev5W"
    },
    {
      "cell_type": "code",
      "execution_count": null,
      "id": "356a1f7d-7084-4539-976c-cbf8823671b6",
      "metadata": {
        "id": "356a1f7d-7084-4539-976c-cbf8823671b6"
      },
      "outputs": [],
      "source": [
        "@tool\n",
        "def multiply(first_int: int, second_int: int) -> int:   # type hinting done to hint to other developers\n",
        "    \"\"\"Multiply two integers together.\"\"\"               # keep detailed docstring gets used as a description for LLM. LLM checks the description not name.\n",
        "                                                        # you can see docstring on help(multiply)\n",
        "    return first_int * second_int\n",
        "                                                        # decorated with @tool that makes multiply function a tool\n",
        "\n",
        "@tool\n",
        "def add(first_int: int, second_int: int) -> int:\n",
        "    \"Add two integers.\"\n",
        "    return first_int + second_int\n",
        "\n",
        "\n",
        "@tool\n",
        "def exponentiate(base: int, exponent: int) -> int:\n",
        "    \"Exponentiate the base to the exponent power.\"\n",
        "    return base**exponent\n"
      ]
    },
    {
      "cell_type": "code",
      "execution_count": null,
      "id": "df5d7d0b-f3e0-42dd-a5f6-8c5fa9e59c0c",
      "metadata": {
        "id": "df5d7d0b-f3e0-42dd-a5f6-8c5fa9e59c0c"
      },
      "outputs": [],
      "source": [
        "# creating list of tools (toolkit) to pass to agent\n",
        "\n",
        "tools = [multiply, add, exponentiate]"
      ]
    },
    {
      "cell_type": "code",
      "execution_count": null,
      "id": "183e2a6b-a660-4b93-8d5a-6a3fce40fb0c",
      "metadata": {
        "colab": {
          "base_uri": "https://localhost:8080/"
        },
        "id": "183e2a6b-a660-4b93-8d5a-6a3fce40fb0c",
        "outputId": "8a7e5808-985b-4bbf-d382-4f454ec90696"
      },
      "outputs": [
        {
          "output_type": "stream",
          "name": "stdout",
          "text": [
            "add\n"
          ]
        }
      ],
      "source": [
        "print(add.name)"
      ]
    },
    {
      "cell_type": "code",
      "execution_count": null,
      "id": "7175b3c6-30ec-4006-9bdb-d5cf116b2e27",
      "metadata": {
        "colab": {
          "base_uri": "https://localhost:8080/"
        },
        "id": "7175b3c6-30ec-4006-9bdb-d5cf116b2e27",
        "outputId": "31f279dd-3391-4735-8cd9-179db99e56c8"
      },
      "outputs": [
        {
          "output_type": "stream",
          "name": "stdout",
          "text": [
            "Add two integers.\n"
          ]
        }
      ],
      "source": [
        "print(add.description)"
      ]
    },
    {
      "cell_type": "code",
      "execution_count": null,
      "id": "649e580d-4a10-4bfc-82e2-fff9ba522f80",
      "metadata": {
        "colab": {
          "base_uri": "https://localhost:8080/"
        },
        "id": "649e580d-4a10-4bfc-82e2-fff9ba522f80",
        "outputId": "938dcc56-7f97-486c-8050-65db9aaa20d9"
      },
      "outputs": [
        {
          "output_type": "stream",
          "name": "stdout",
          "text": [
            "{'first_int': {'title': 'First Int', 'type': 'integer'}, 'second_int': {'title': 'Second Int', 'type': 'integer'}}\n"
          ]
        }
      ],
      "source": [
        "print(add.args)"
      ]
    },
    {
      "cell_type": "markdown",
      "source": [
        "**Creating prompts**\n",
        "\n",
        "\n",
        "Prompt1: User to Agent\n",
        "\n",
        "Promt2 : Agent to LLM"
      ],
      "metadata": {
        "id": "20UCkfCUHB0s"
      },
      "id": "20UCkfCUHB0s"
    },
    {
      "cell_type": "markdown",
      "source": [
        "2 variables:\n",
        "\n",
        "{input} -> user to agent\n",
        "\n",
        "{agent_scratchpad} -> intermediate outputs"
      ],
      "metadata": {
        "id": "wetrLzwcHraj"
      },
      "id": "wetrLzwcHraj"
    },
    {
      "cell_type": "code",
      "execution_count": null,
      "id": "62a3fb08-f3ff-475a-981e-d619a864c25f",
      "metadata": {
        "id": "62a3fb08-f3ff-475a-981e-d619a864c25f"
      },
      "outputs": [],
      "source": [
        "# Method 1: can write your own prompt\n",
        "\n",
        "# from langchain_core.prompts import ChatPromptTemplate, MessagesPlaceholder\n",
        "\n",
        "# prompt = ChatPromptTemplate.from_messages([\n",
        "#     (\"system\": '''u are a math..., use tools to ans....   # system message\n",
        "#         if u dont have the answer say so,\n",
        "#         Return only the answer\n",
        "#         Human: what is 1+1?\n",
        "#         AI: 2'''),\n",
        "\n",
        "#     MessagesPlaceholder(\"chat_history\"),                  # includes all the chat history\n",
        "#     (\"human\", \"{input}\"),                                 # current question from human\n",
        "#     MessagesPlaceholder(\"agent_scratchpad\")               # output from the intermediate tools called\n",
        "# ])"
      ]
    },
    {
      "cell_type": "code",
      "execution_count": null,
      "id": "4c51158c-b1bb-4620-9fb1-a828f14b524e",
      "metadata": {
        "colab": {
          "base_uri": "https://localhost:8080/"
        },
        "id": "4c51158c-b1bb-4620-9fb1-a828f14b524e",
        "outputId": "1c6e8511-9fcb-4163-e356-790e395269c4"
      },
      "outputs": [
        {
          "output_type": "stream",
          "name": "stdout",
          "text": [
            "================================\u001b[1m System Message \u001b[0m================================\n",
            "\n",
            "You are a helpful assistant\n",
            "\n",
            "=============================\u001b[1m Messages Placeholder \u001b[0m=============================\n",
            "\n",
            "\u001b[33;1m\u001b[1;3m{chat_history}\u001b[0m\n",
            "\n",
            "================================\u001b[1m Human Message \u001b[0m=================================\n",
            "\n",
            "\u001b[33;1m\u001b[1;3m{input}\u001b[0m\n",
            "\n",
            "=============================\u001b[1m Messages Placeholder \u001b[0m=============================\n",
            "\n",
            "\u001b[33;1m\u001b[1;3m{agent_scratchpad}\u001b[0m\n"
          ]
        },
        {
          "output_type": "stream",
          "name": "stderr",
          "text": [
            "/usr/local/lib/python3.11/dist-packages/langsmith/client.py:253: LangSmithMissingAPIKeyWarning: API key must be provided when using hosted LangSmith API\n",
            "  warnings.warn(\n"
          ]
        }
      ],
      "source": [
        "# Method 2: Langchain prompts available for download\n",
        "\n",
        "from langchain import hub                                   # repository -> prompts, chains, agents\n",
        "\n",
        "prompt = hub.pull(\"hwchase17/openai-tools-agent\")\n",
        "prompt.pretty_print()"
      ]
    },
    {
      "cell_type": "markdown",
      "source": [
        "**Set up OpenAI**"
      ],
      "metadata": {
        "id": "_74cjti8LQwl"
      },
      "id": "_74cjti8LQwl"
    },
    {
      "cell_type": "code",
      "execution_count": null,
      "id": "8388172c-8fa6-4f2e-a672-23125b6628ea",
      "metadata": {
        "id": "8388172c-8fa6-4f2e-a672-23125b6628ea"
      },
      "outputs": [],
      "source": [
        "import getpass\n",
        "import os\n",
        "\n",
        "os.environ[\"OPENAI_API_KEY\"] = getpass.getpass()"
      ]
    },
    {
      "cell_type": "code",
      "execution_count": null,
      "id": "e20f6797-aa5f-49ac-8a17-fd81c40265a5",
      "metadata": {
        "id": "e20f6797-aa5f-49ac-8a17-fd81c40265a5"
      },
      "outputs": [],
      "source": [
        "# !pip install -q langchain_openai\n",
        "from langchain_openai import ChatOpenAI\n",
        "\n",
        "llm = ChatOpenAI(model=\"gpt-3.5-turbo-0125\")"
      ]
    },
    {
      "cell_type": "markdown",
      "source": [
        "**Create the agent**"
      ],
      "metadata": {
        "id": "OTeSJEbUL_By"
      },
      "id": "OTeSJEbUL_By"
    },
    {
      "cell_type": "code",
      "execution_count": null,
      "id": "862214ec-79b1-443e-855e-0c339d40789c",
      "metadata": {
        "id": "862214ec-79b1-443e-855e-0c339d40789c"
      },
      "outputs": [],
      "source": [
        "from langchain.agents import create_tool_calling_agent, AgentExecutor\n",
        "\n",
        "agent = create_tool_calling_agent(llm, tools, prompt) # prompt is prompt that agent gives the llm\n",
        "\n",
        "agent_executor = AgentExecutor(agent=agent, tools=tools, verbose=True) #verbose=True -> show intermediate details on what is hapening"
      ]
    },
    {
      "cell_type": "code",
      "execution_count": null,
      "id": "bd89b43c-6403-465f-835f-53f3253d88e2",
      "metadata": {
        "colab": {
          "base_uri": "https://localhost:8080/"
        },
        "id": "bd89b43c-6403-465f-835f-53f3253d88e2",
        "outputId": "6c506db7-55ab-48f6-d691-0805de6cefc9"
      },
      "outputs": [
        {
          "output_type": "stream",
          "name": "stdout",
          "text": [
            "\n",
            "\n",
            "\u001b[1m> Entering new AgentExecutor chain...\u001b[0m\n",
            "\u001b[32;1m\u001b[1;3m\n",
            "Invoking: `exponentiate` with `{'base': 3, 'exponent': 5}`\n",
            "\n",
            "\n",
            "\u001b[0m\u001b[38;5;200m\u001b[1;3m243\u001b[0m\u001b[32;1m\u001b[1;3m\n",
            "Invoking: `add` with `{'first_int': 12, 'second_int': 3}`\n",
            "\n",
            "\n",
            "\u001b[0m\u001b[33;1m\u001b[1;3m15\u001b[0m\u001b[32;1m\u001b[1;3m\n",
            "Invoking: `multiply` with `{'first_int': 243, 'second_int': 15}`\n",
            "\n",
            "\n",
            "\u001b[0m\u001b[36;1m\u001b[1;3m3645\u001b[0m\u001b[32;1m\u001b[1;3m\n",
            "Invoking: `exponentiate` with `{'base': 3645, 'exponent': 2}`\n",
            "\n",
            "\n",
            "\u001b[0m\u001b[38;5;200m\u001b[1;3m13286025\u001b[0m\u001b[32;1m\u001b[1;3mThe result of taking \\(3\\) to the fifth power and multiplying that by the sum of \\(12\\) and \\(3\\), then squaring the whole result is \\(13,286,025\\).\u001b[0m\n",
            "\n",
            "\u001b[1m> Finished chain.\u001b[0m\n"
          ]
        },
        {
          "output_type": "execute_result",
          "data": {
            "text/plain": [
              "{'input': 'Take 3 to the fifth power and multiply that by the sum of twelve and three, then square the whole result',\n",
              " 'output': 'The result of taking \\\\(3\\\\) to the fifth power and multiplying that by the sum of \\\\(12\\\\) and \\\\(3\\\\), then squaring the whole result is \\\\(13,286,025\\\\).'}"
            ]
          },
          "metadata": {},
          "execution_count": 21
        }
      ],
      "source": [
        "agent_executor.invoke( {\n",
        "        \"input\": \"Take 3 to the fifth power and multiply that by the sum of twelve and three, then square the whole result\"\n",
        "    })"
      ]
    },
    {
      "cell_type": "code",
      "execution_count": null,
      "id": "3ea4c102-ebf4-4289-a34b-6305896d5dd9",
      "metadata": {
        "colab": {
          "base_uri": "https://localhost:8080/"
        },
        "id": "3ea4c102-ebf4-4289-a34b-6305896d5dd9",
        "outputId": "07bbdc1f-2439-4ac6-95ea-0d329957e69a"
      },
      "outputs": [
        {
          "output_type": "stream",
          "name": "stdout",
          "text": [
            "\n",
            "\n",
            "\u001b[1m> Entering new AgentExecutor chain...\u001b[0m\n",
            "\u001b[32;1m\u001b[1;3mThe capital of India is New Delhi.\u001b[0m\n",
            "\n",
            "\u001b[1m> Finished chain.\u001b[0m\n"
          ]
        },
        {
          "output_type": "execute_result",
          "data": {
            "text/plain": [
              "{'input': 'What is capital of India?',\n",
              " 'output': 'The capital of India is New Delhi.'}"
            ]
          },
          "metadata": {},
          "execution_count": 22
        }
      ],
      "source": [
        "agent_executor.invoke( {\n",
        "        \"input\": \"What is capital of India?\"\n",
        "    })\n",
        "\n",
        "# tools are called as and when required"
      ]
    },
    {
      "cell_type": "markdown",
      "id": "1db5ea36-8ad9-4e55-af6f-58c3b3c5a229",
      "metadata": {
        "id": "1db5ea36-8ad9-4e55-af6f-58c3b3c5a229"
      },
      "source": [
        "# chat with excel"
      ]
    },
    {
      "cell_type": "code",
      "execution_count": null,
      "id": "07870c89-f84e-48dd-8db1-def44e46ca36",
      "metadata": {
        "id": "07870c89-f84e-48dd-8db1-def44e46ca36"
      },
      "outputs": [],
      "source": [
        "# !pip install -q langchain_experimental langchain_openai\n",
        "\n",
        "from langchain.agents.agent_types import AgentType\n",
        "from langchain_experimental.agents.agent_toolkits import create_csv_agent\n",
        "from langchain_openai import ChatOpenAI, OpenAI"
      ]
    },
    {
      "cell_type": "code",
      "execution_count": null,
      "id": "e79d64ce-0fd8-4d94-b8e0-2096c1f1b85a",
      "metadata": {
        "id": "e79d64ce-0fd8-4d94-b8e0-2096c1f1b85a"
      },
      "outputs": [],
      "source": [
        "agent = create_csv_agent(\n",
        "    OpenAI(temperature=0), #llm\n",
        "    \"Titanic-Dataset.csv\",\n",
        "    verbose=True,\n",
        "    agent_type=AgentType.ZERO_SHOT_REACT_DESCRIPTION,\n",
        "    allow_dangerous_code=True\n",
        ")\n",
        "\n",
        "# think step by step, decide on action, execute the action\n",
        "# RE: reasoning\n",
        "# ACT: acting"
      ]
    },
    {
      "cell_type": "code",
      "execution_count": null,
      "id": "b132f03e-8038-46f5-92f2-44ce67e50dd4",
      "metadata": {
        "id": "b132f03e-8038-46f5-92f2-44ce67e50dd4",
        "outputId": "7c85d0fe-38df-4452-9f4c-b15ee1580d6b",
        "colab": {
          "base_uri": "https://localhost:8080/"
        }
      },
      "outputs": [
        {
          "output_type": "stream",
          "name": "stdout",
          "text": [
            "\n",
            "\n",
            "\u001b[1m> Entering new AgentExecutor chain...\u001b[0m\n",
            "\u001b[32;1m\u001b[1;3mThought: I need to count the number of rows in the dataframe\n",
            "Action: python_repl_ast\n",
            "Action Input: len(df)\u001b[0m\u001b[36;1m\u001b[1;3m891\u001b[0m\u001b[32;1m\u001b[1;3m891 is the number of rows in the dataframe\n",
            "Final Answer: 891\u001b[0m\n",
            "\n",
            "\u001b[1m> Finished chain.\u001b[0m\n"
          ]
        },
        {
          "output_type": "execute_result",
          "data": {
            "text/plain": [
              "{'input': 'how many rows are there?', 'output': '891'}"
            ]
          },
          "metadata": {},
          "execution_count": 12
        }
      ],
      "source": [
        "agent.invoke(\"how many rows are there?\")"
      ]
    },
    {
      "cell_type": "code",
      "execution_count": null,
      "id": "29213434-ba9f-4056-830e-2021fabe91a2",
      "metadata": {
        "id": "29213434-ba9f-4056-830e-2021fabe91a2",
        "colab": {
          "base_uri": "https://localhost:8080/"
        },
        "outputId": "261b479c-1431-41ef-b6c7-4bd8353d131f"
      },
      "outputs": [
        {
          "output_type": "stream",
          "name": "stdout",
          "text": [
            "\n",
            "\n",
            "\u001b[1m> Entering new AgentExecutor chain...\u001b[0m\n",
            "\u001b[32;1m\u001b[1;3mThought: I need to filter the dataframe to only include rows where the SibSp column is greater than 3, and then count the number of rows.\n",
            "Action: python_repl_ast\n",
            "Action Input: df[df['SibSp'] > 3].count()\u001b[0m\u001b[36;1m\u001b[1;3mPassengerId    30\n",
            "Survived       30\n",
            "Pclass         30\n",
            "Name           30\n",
            "Sex            30\n",
            "Age            23\n",
            "SibSp          30\n",
            "Parch          30\n",
            "Ticket         30\n",
            "Fare           30\n",
            "Cabin           0\n",
            "Embarked       30\n",
            "dtype: int64\u001b[0m\u001b[32;1m\u001b[1;3m30 rows have been counted, but I need to specify which column to count.\n",
            "Action: python_repl_ast\n",
            "Action Input: df[df['SibSp'] > 3]['PassengerId'].count()\u001b[0m\u001b[36;1m\u001b[1;3m30\u001b[0m\u001b[32;1m\u001b[1;3m30 is the final answer.\n",
            "Final Answer: 30\u001b[0m\n",
            "\n",
            "\u001b[1m> Finished chain.\u001b[0m\n"
          ]
        },
        {
          "output_type": "execute_result",
          "data": {
            "text/plain": [
              "{'input': 'how many people have more than 3 siblings?', 'output': '30'}"
            ]
          },
          "metadata": {},
          "execution_count": 13
        }
      ],
      "source": [
        "agent.invoke(\"how many people have more than 3 siblings?\")"
      ]
    },
    {
      "cell_type": "code",
      "execution_count": null,
      "id": "9cbbdbb5-3382-4c9e-a856-c95b6e7e9d1d",
      "metadata": {
        "id": "9cbbdbb5-3382-4c9e-a856-c95b6e7e9d1d",
        "colab": {
          "base_uri": "https://localhost:8080/"
        },
        "outputId": "6d97b6f8-5659-4c48-982d-d055700ee523"
      },
      "outputs": [
        {
          "output_type": "stream",
          "name": "stdout",
          "text": [
            "\n",
            "\n",
            "\u001b[1m> Entering new AgentExecutor chain...\u001b[0m\n",
            "\u001b[32;1m\u001b[1;3mThought: This is not a valid question for this tool.\n",
            "Final Answer: This is not a valid question for this tool.\u001b[0m\n",
            "\n",
            "\u001b[1m> Finished chain.\u001b[0m\n"
          ]
        },
        {
          "output_type": "execute_result",
          "data": {
            "text/plain": [
              "{'input': 'how many kites are in the sky?',\n",
              " 'output': 'This is not a valid question for this tool.'}"
            ]
          },
          "metadata": {},
          "execution_count": 14
        }
      ],
      "source": [
        "agent.invoke(\"how many kites are in the sky?\")"
      ]
    },
    {
      "cell_type": "markdown",
      "source": [
        "# chat with pandas dataframe"
      ],
      "metadata": {
        "id": "EJaAuW_YJKOq"
      },
      "id": "EJaAuW_YJKOq"
    },
    {
      "cell_type": "code",
      "execution_count": null,
      "id": "f126e949-e9b4-46d3-a7f4-83929f209d4c",
      "metadata": {
        "id": "f126e949-e9b4-46d3-a7f4-83929f209d4c"
      },
      "outputs": [],
      "source": [
        "from langchain_experimental.agents.agent_toolkits import create_pandas_dataframe_agent  # calls python agent to run python code and give output\n",
        "import pandas as pd"
      ]
    },
    {
      "cell_type": "code",
      "source": [
        "df = pd.read_csv('Titanic-Dataset.csv')\n",
        "df.head()"
      ],
      "metadata": {
        "colab": {
          "base_uri": "https://localhost:8080/",
          "height": 258
        },
        "id": "vVflpBqhIpTC",
        "outputId": "479894a0-6b3a-48c8-b51c-1b0033053e58"
      },
      "id": "vVflpBqhIpTC",
      "execution_count": null,
      "outputs": [
        {
          "output_type": "execute_result",
          "data": {
            "text/plain": [
              "   PassengerId  Survived  Pclass  \\\n",
              "0            1         0       3   \n",
              "1            2         1       1   \n",
              "2            3         1       3   \n",
              "3            4         1       1   \n",
              "4            5         0       3   \n",
              "\n",
              "                                                Name     Sex   Age  SibSp  \\\n",
              "0                            Braund, Mr. Owen Harris    male  22.0      1   \n",
              "1  Cumings, Mrs. John Bradley (Florence Briggs Th...  female  38.0      1   \n",
              "2                             Heikkinen, Miss. Laina  female  26.0      0   \n",
              "3       Futrelle, Mrs. Jacques Heath (Lily May Peel)  female  35.0      1   \n",
              "4                           Allen, Mr. William Henry    male  35.0      0   \n",
              "\n",
              "   Parch            Ticket     Fare Cabin Embarked  \n",
              "0      0         A/5 21171   7.2500   NaN        S  \n",
              "1      0          PC 17599  71.2833   C85        C  \n",
              "2      0  STON/O2. 3101282   7.9250   NaN        S  \n",
              "3      0            113803  53.1000  C123        S  \n",
              "4      0            373450   8.0500   NaN        S  "
            ],
            "text/html": [
              "\n",
              "  <div id=\"df-5516baa9-ce40-4845-baa8-85106631e812\" class=\"colab-df-container\">\n",
              "    <div>\n",
              "<style scoped>\n",
              "    .dataframe tbody tr th:only-of-type {\n",
              "        vertical-align: middle;\n",
              "    }\n",
              "\n",
              "    .dataframe tbody tr th {\n",
              "        vertical-align: top;\n",
              "    }\n",
              "\n",
              "    .dataframe thead th {\n",
              "        text-align: right;\n",
              "    }\n",
              "</style>\n",
              "<table border=\"1\" class=\"dataframe\">\n",
              "  <thead>\n",
              "    <tr style=\"text-align: right;\">\n",
              "      <th></th>\n",
              "      <th>PassengerId</th>\n",
              "      <th>Survived</th>\n",
              "      <th>Pclass</th>\n",
              "      <th>Name</th>\n",
              "      <th>Sex</th>\n",
              "      <th>Age</th>\n",
              "      <th>SibSp</th>\n",
              "      <th>Parch</th>\n",
              "      <th>Ticket</th>\n",
              "      <th>Fare</th>\n",
              "      <th>Cabin</th>\n",
              "      <th>Embarked</th>\n",
              "    </tr>\n",
              "  </thead>\n",
              "  <tbody>\n",
              "    <tr>\n",
              "      <th>0</th>\n",
              "      <td>1</td>\n",
              "      <td>0</td>\n",
              "      <td>3</td>\n",
              "      <td>Braund, Mr. Owen Harris</td>\n",
              "      <td>male</td>\n",
              "      <td>22.0</td>\n",
              "      <td>1</td>\n",
              "      <td>0</td>\n",
              "      <td>A/5 21171</td>\n",
              "      <td>7.2500</td>\n",
              "      <td>NaN</td>\n",
              "      <td>S</td>\n",
              "    </tr>\n",
              "    <tr>\n",
              "      <th>1</th>\n",
              "      <td>2</td>\n",
              "      <td>1</td>\n",
              "      <td>1</td>\n",
              "      <td>Cumings, Mrs. John Bradley (Florence Briggs Th...</td>\n",
              "      <td>female</td>\n",
              "      <td>38.0</td>\n",
              "      <td>1</td>\n",
              "      <td>0</td>\n",
              "      <td>PC 17599</td>\n",
              "      <td>71.2833</td>\n",
              "      <td>C85</td>\n",
              "      <td>C</td>\n",
              "    </tr>\n",
              "    <tr>\n",
              "      <th>2</th>\n",
              "      <td>3</td>\n",
              "      <td>1</td>\n",
              "      <td>3</td>\n",
              "      <td>Heikkinen, Miss. Laina</td>\n",
              "      <td>female</td>\n",
              "      <td>26.0</td>\n",
              "      <td>0</td>\n",
              "      <td>0</td>\n",
              "      <td>STON/O2. 3101282</td>\n",
              "      <td>7.9250</td>\n",
              "      <td>NaN</td>\n",
              "      <td>S</td>\n",
              "    </tr>\n",
              "    <tr>\n",
              "      <th>3</th>\n",
              "      <td>4</td>\n",
              "      <td>1</td>\n",
              "      <td>1</td>\n",
              "      <td>Futrelle, Mrs. Jacques Heath (Lily May Peel)</td>\n",
              "      <td>female</td>\n",
              "      <td>35.0</td>\n",
              "      <td>1</td>\n",
              "      <td>0</td>\n",
              "      <td>113803</td>\n",
              "      <td>53.1000</td>\n",
              "      <td>C123</td>\n",
              "      <td>S</td>\n",
              "    </tr>\n",
              "    <tr>\n",
              "      <th>4</th>\n",
              "      <td>5</td>\n",
              "      <td>0</td>\n",
              "      <td>3</td>\n",
              "      <td>Allen, Mr. William Henry</td>\n",
              "      <td>male</td>\n",
              "      <td>35.0</td>\n",
              "      <td>0</td>\n",
              "      <td>0</td>\n",
              "      <td>373450</td>\n",
              "      <td>8.0500</td>\n",
              "      <td>NaN</td>\n",
              "      <td>S</td>\n",
              "    </tr>\n",
              "  </tbody>\n",
              "</table>\n",
              "</div>\n",
              "    <div class=\"colab-df-buttons\">\n",
              "\n",
              "  <div class=\"colab-df-container\">\n",
              "    <button class=\"colab-df-convert\" onclick=\"convertToInteractive('df-5516baa9-ce40-4845-baa8-85106631e812')\"\n",
              "            title=\"Convert this dataframe to an interactive table.\"\n",
              "            style=\"display:none;\">\n",
              "\n",
              "  <svg xmlns=\"http://www.w3.org/2000/svg\" height=\"24px\" viewBox=\"0 -960 960 960\">\n",
              "    <path d=\"M120-120v-720h720v720H120Zm60-500h600v-160H180v160Zm220 220h160v-160H400v160Zm0 220h160v-160H400v160ZM180-400h160v-160H180v160Zm440 0h160v-160H620v160ZM180-180h160v-160H180v160Zm440 0h160v-160H620v160Z\"/>\n",
              "  </svg>\n",
              "    </button>\n",
              "\n",
              "  <style>\n",
              "    .colab-df-container {\n",
              "      display:flex;\n",
              "      gap: 12px;\n",
              "    }\n",
              "\n",
              "    .colab-df-convert {\n",
              "      background-color: #E8F0FE;\n",
              "      border: none;\n",
              "      border-radius: 50%;\n",
              "      cursor: pointer;\n",
              "      display: none;\n",
              "      fill: #1967D2;\n",
              "      height: 32px;\n",
              "      padding: 0 0 0 0;\n",
              "      width: 32px;\n",
              "    }\n",
              "\n",
              "    .colab-df-convert:hover {\n",
              "      background-color: #E2EBFA;\n",
              "      box-shadow: 0px 1px 2px rgba(60, 64, 67, 0.3), 0px 1px 3px 1px rgba(60, 64, 67, 0.15);\n",
              "      fill: #174EA6;\n",
              "    }\n",
              "\n",
              "    .colab-df-buttons div {\n",
              "      margin-bottom: 4px;\n",
              "    }\n",
              "\n",
              "    [theme=dark] .colab-df-convert {\n",
              "      background-color: #3B4455;\n",
              "      fill: #D2E3FC;\n",
              "    }\n",
              "\n",
              "    [theme=dark] .colab-df-convert:hover {\n",
              "      background-color: #434B5C;\n",
              "      box-shadow: 0px 1px 3px 1px rgba(0, 0, 0, 0.15);\n",
              "      filter: drop-shadow(0px 1px 2px rgba(0, 0, 0, 0.3));\n",
              "      fill: #FFFFFF;\n",
              "    }\n",
              "  </style>\n",
              "\n",
              "    <script>\n",
              "      const buttonEl =\n",
              "        document.querySelector('#df-5516baa9-ce40-4845-baa8-85106631e812 button.colab-df-convert');\n",
              "      buttonEl.style.display =\n",
              "        google.colab.kernel.accessAllowed ? 'block' : 'none';\n",
              "\n",
              "      async function convertToInteractive(key) {\n",
              "        const element = document.querySelector('#df-5516baa9-ce40-4845-baa8-85106631e812');\n",
              "        const dataTable =\n",
              "          await google.colab.kernel.invokeFunction('convertToInteractive',\n",
              "                                                    [key], {});\n",
              "        if (!dataTable) return;\n",
              "\n",
              "        const docLinkHtml = 'Like what you see? Visit the ' +\n",
              "          '<a target=\"_blank\" href=https://colab.research.google.com/notebooks/data_table.ipynb>data table notebook</a>'\n",
              "          + ' to learn more about interactive tables.';\n",
              "        element.innerHTML = '';\n",
              "        dataTable['output_type'] = 'display_data';\n",
              "        await google.colab.output.renderOutput(dataTable, element);\n",
              "        const docLink = document.createElement('div');\n",
              "        docLink.innerHTML = docLinkHtml;\n",
              "        element.appendChild(docLink);\n",
              "      }\n",
              "    </script>\n",
              "  </div>\n",
              "\n",
              "\n",
              "<div id=\"df-efa59089-9fae-4e06-aec2-e9baaf4a653c\">\n",
              "  <button class=\"colab-df-quickchart\" onclick=\"quickchart('df-efa59089-9fae-4e06-aec2-e9baaf4a653c')\"\n",
              "            title=\"Suggest charts\"\n",
              "            style=\"display:none;\">\n",
              "\n",
              "<svg xmlns=\"http://www.w3.org/2000/svg\" height=\"24px\"viewBox=\"0 0 24 24\"\n",
              "     width=\"24px\">\n",
              "    <g>\n",
              "        <path d=\"M19 3H5c-1.1 0-2 .9-2 2v14c0 1.1.9 2 2 2h14c1.1 0 2-.9 2-2V5c0-1.1-.9-2-2-2zM9 17H7v-7h2v7zm4 0h-2V7h2v10zm4 0h-2v-4h2v4z\"/>\n",
              "    </g>\n",
              "</svg>\n",
              "  </button>\n",
              "\n",
              "<style>\n",
              "  .colab-df-quickchart {\n",
              "      --bg-color: #E8F0FE;\n",
              "      --fill-color: #1967D2;\n",
              "      --hover-bg-color: #E2EBFA;\n",
              "      --hover-fill-color: #174EA6;\n",
              "      --disabled-fill-color: #AAA;\n",
              "      --disabled-bg-color: #DDD;\n",
              "  }\n",
              "\n",
              "  [theme=dark] .colab-df-quickchart {\n",
              "      --bg-color: #3B4455;\n",
              "      --fill-color: #D2E3FC;\n",
              "      --hover-bg-color: #434B5C;\n",
              "      --hover-fill-color: #FFFFFF;\n",
              "      --disabled-bg-color: #3B4455;\n",
              "      --disabled-fill-color: #666;\n",
              "  }\n",
              "\n",
              "  .colab-df-quickchart {\n",
              "    background-color: var(--bg-color);\n",
              "    border: none;\n",
              "    border-radius: 50%;\n",
              "    cursor: pointer;\n",
              "    display: none;\n",
              "    fill: var(--fill-color);\n",
              "    height: 32px;\n",
              "    padding: 0;\n",
              "    width: 32px;\n",
              "  }\n",
              "\n",
              "  .colab-df-quickchart:hover {\n",
              "    background-color: var(--hover-bg-color);\n",
              "    box-shadow: 0 1px 2px rgba(60, 64, 67, 0.3), 0 1px 3px 1px rgba(60, 64, 67, 0.15);\n",
              "    fill: var(--button-hover-fill-color);\n",
              "  }\n",
              "\n",
              "  .colab-df-quickchart-complete:disabled,\n",
              "  .colab-df-quickchart-complete:disabled:hover {\n",
              "    background-color: var(--disabled-bg-color);\n",
              "    fill: var(--disabled-fill-color);\n",
              "    box-shadow: none;\n",
              "  }\n",
              "\n",
              "  .colab-df-spinner {\n",
              "    border: 2px solid var(--fill-color);\n",
              "    border-color: transparent;\n",
              "    border-bottom-color: var(--fill-color);\n",
              "    animation:\n",
              "      spin 1s steps(1) infinite;\n",
              "  }\n",
              "\n",
              "  @keyframes spin {\n",
              "    0% {\n",
              "      border-color: transparent;\n",
              "      border-bottom-color: var(--fill-color);\n",
              "      border-left-color: var(--fill-color);\n",
              "    }\n",
              "    20% {\n",
              "      border-color: transparent;\n",
              "      border-left-color: var(--fill-color);\n",
              "      border-top-color: var(--fill-color);\n",
              "    }\n",
              "    30% {\n",
              "      border-color: transparent;\n",
              "      border-left-color: var(--fill-color);\n",
              "      border-top-color: var(--fill-color);\n",
              "      border-right-color: var(--fill-color);\n",
              "    }\n",
              "    40% {\n",
              "      border-color: transparent;\n",
              "      border-right-color: var(--fill-color);\n",
              "      border-top-color: var(--fill-color);\n",
              "    }\n",
              "    60% {\n",
              "      border-color: transparent;\n",
              "      border-right-color: var(--fill-color);\n",
              "    }\n",
              "    80% {\n",
              "      border-color: transparent;\n",
              "      border-right-color: var(--fill-color);\n",
              "      border-bottom-color: var(--fill-color);\n",
              "    }\n",
              "    90% {\n",
              "      border-color: transparent;\n",
              "      border-bottom-color: var(--fill-color);\n",
              "    }\n",
              "  }\n",
              "</style>\n",
              "\n",
              "  <script>\n",
              "    async function quickchart(key) {\n",
              "      const quickchartButtonEl =\n",
              "        document.querySelector('#' + key + ' button');\n",
              "      quickchartButtonEl.disabled = true;  // To prevent multiple clicks.\n",
              "      quickchartButtonEl.classList.add('colab-df-spinner');\n",
              "      try {\n",
              "        const charts = await google.colab.kernel.invokeFunction(\n",
              "            'suggestCharts', [key], {});\n",
              "      } catch (error) {\n",
              "        console.error('Error during call to suggestCharts:', error);\n",
              "      }\n",
              "      quickchartButtonEl.classList.remove('colab-df-spinner');\n",
              "      quickchartButtonEl.classList.add('colab-df-quickchart-complete');\n",
              "    }\n",
              "    (() => {\n",
              "      let quickchartButtonEl =\n",
              "        document.querySelector('#df-efa59089-9fae-4e06-aec2-e9baaf4a653c button');\n",
              "      quickchartButtonEl.style.display =\n",
              "        google.colab.kernel.accessAllowed ? 'block' : 'none';\n",
              "    })();\n",
              "  </script>\n",
              "</div>\n",
              "\n",
              "    </div>\n",
              "  </div>\n"
            ],
            "application/vnd.google.colaboratory.intrinsic+json": {
              "type": "dataframe",
              "variable_name": "df",
              "summary": "{\n  \"name\": \"df\",\n  \"rows\": 891,\n  \"fields\": [\n    {\n      \"column\": \"PassengerId\",\n      \"properties\": {\n        \"dtype\": \"number\",\n        \"std\": 257,\n        \"min\": 1,\n        \"max\": 891,\n        \"num_unique_values\": 891,\n        \"samples\": [\n          710,\n          440,\n          841\n        ],\n        \"semantic_type\": \"\",\n        \"description\": \"\"\n      }\n    },\n    {\n      \"column\": \"Survived\",\n      \"properties\": {\n        \"dtype\": \"number\",\n        \"std\": 0,\n        \"min\": 0,\n        \"max\": 1,\n        \"num_unique_values\": 2,\n        \"samples\": [\n          1,\n          0\n        ],\n        \"semantic_type\": \"\",\n        \"description\": \"\"\n      }\n    },\n    {\n      \"column\": \"Pclass\",\n      \"properties\": {\n        \"dtype\": \"number\",\n        \"std\": 0,\n        \"min\": 1,\n        \"max\": 3,\n        \"num_unique_values\": 3,\n        \"samples\": [\n          3,\n          1\n        ],\n        \"semantic_type\": \"\",\n        \"description\": \"\"\n      }\n    },\n    {\n      \"column\": \"Name\",\n      \"properties\": {\n        \"dtype\": \"string\",\n        \"num_unique_values\": 891,\n        \"samples\": [\n          \"Moubarek, Master. Halim Gonios (\\\"William George\\\")\",\n          \"Kvillner, Mr. Johan Henrik Johannesson\"\n        ],\n        \"semantic_type\": \"\",\n        \"description\": \"\"\n      }\n    },\n    {\n      \"column\": \"Sex\",\n      \"properties\": {\n        \"dtype\": \"category\",\n        \"num_unique_values\": 2,\n        \"samples\": [\n          \"female\",\n          \"male\"\n        ],\n        \"semantic_type\": \"\",\n        \"description\": \"\"\n      }\n    },\n    {\n      \"column\": \"Age\",\n      \"properties\": {\n        \"dtype\": \"number\",\n        \"std\": 14.526497332334044,\n        \"min\": 0.42,\n        \"max\": 80.0,\n        \"num_unique_values\": 88,\n        \"samples\": [\n          0.75,\n          22.0\n        ],\n        \"semantic_type\": \"\",\n        \"description\": \"\"\n      }\n    },\n    {\n      \"column\": \"SibSp\",\n      \"properties\": {\n        \"dtype\": \"number\",\n        \"std\": 1,\n        \"min\": 0,\n        \"max\": 8,\n        \"num_unique_values\": 7,\n        \"samples\": [\n          1,\n          0\n        ],\n        \"semantic_type\": \"\",\n        \"description\": \"\"\n      }\n    },\n    {\n      \"column\": \"Parch\",\n      \"properties\": {\n        \"dtype\": \"number\",\n        \"std\": 0,\n        \"min\": 0,\n        \"max\": 6,\n        \"num_unique_values\": 7,\n        \"samples\": [\n          0,\n          1\n        ],\n        \"semantic_type\": \"\",\n        \"description\": \"\"\n      }\n    },\n    {\n      \"column\": \"Ticket\",\n      \"properties\": {\n        \"dtype\": \"string\",\n        \"num_unique_values\": 681,\n        \"samples\": [\n          \"11774\",\n          \"248740\"\n        ],\n        \"semantic_type\": \"\",\n        \"description\": \"\"\n      }\n    },\n    {\n      \"column\": \"Fare\",\n      \"properties\": {\n        \"dtype\": \"number\",\n        \"std\": 49.693428597180905,\n        \"min\": 0.0,\n        \"max\": 512.3292,\n        \"num_unique_values\": 248,\n        \"samples\": [\n          11.2417,\n          51.8625\n        ],\n        \"semantic_type\": \"\",\n        \"description\": \"\"\n      }\n    },\n    {\n      \"column\": \"Cabin\",\n      \"properties\": {\n        \"dtype\": \"category\",\n        \"num_unique_values\": 147,\n        \"samples\": [\n          \"D45\",\n          \"B49\"\n        ],\n        \"semantic_type\": \"\",\n        \"description\": \"\"\n      }\n    },\n    {\n      \"column\": \"Embarked\",\n      \"properties\": {\n        \"dtype\": \"category\",\n        \"num_unique_values\": 3,\n        \"samples\": [\n          \"S\",\n          \"C\"\n        ],\n        \"semantic_type\": \"\",\n        \"description\": \"\"\n      }\n    }\n  ]\n}"
            }
          },
          "metadata": {},
          "execution_count": 18
        }
      ]
    },
    {
      "cell_type": "code",
      "source": [
        "agent = create_pandas_dataframe_agent(\n",
        "    OpenAI(temperature=0), #llm\n",
        "    df,\n",
        "    verbose=True,\n",
        "    allow_dangerous_code=True # colab needs this to use experimental agents, not required otherwiae\n",
        ")\n",
        "\n",
        "\n",
        "agent.invoke('how many rows are there?')"
      ],
      "metadata": {
        "colab": {
          "base_uri": "https://localhost:8080/"
        },
        "id": "U9ZM52utIvrz",
        "outputId": "dc5b26ed-afef-40f8-fcda-e64039a1035e"
      },
      "id": "U9ZM52utIvrz",
      "execution_count": null,
      "outputs": [
        {
          "output_type": "stream",
          "name": "stdout",
          "text": [
            "\n",
            "\n",
            "\u001b[1m> Entering new AgentExecutor chain...\u001b[0m\n",
            "\u001b[32;1m\u001b[1;3mThought: I need to count the number of rows in the dataframe\n",
            "Action: python_repl_ast\n",
            "Action Input: len(df)\u001b[0m\u001b[36;1m\u001b[1;3m891\u001b[0m\u001b[32;1m\u001b[1;3m891 is the number of rows in the dataframe\n",
            "Final Answer: 891\u001b[0m\n",
            "\n",
            "\u001b[1m> Finished chain.\u001b[0m\n"
          ]
        },
        {
          "output_type": "execute_result",
          "data": {
            "text/plain": [
              "{'input': 'how many rows are there?', 'output': '891'}"
            ]
          },
          "metadata": {},
          "execution_count": 21
        }
      ]
    },
    {
      "cell_type": "code",
      "source": [
        "agent.invoke('how many people have more than 3 siblings?')\n",
        "\n",
        "# code is written by the python agent and EXECUTED to get the ans. Agents do this but llm will not execute the code if asked directly"
      ],
      "metadata": {
        "colab": {
          "base_uri": "https://localhost:8080/"
        },
        "id": "xfmbsSY8JRqR",
        "outputId": "5b38f688-aaa4-4f7e-dc85-e324c23fbff6"
      },
      "id": "xfmbsSY8JRqR",
      "execution_count": null,
      "outputs": [
        {
          "output_type": "stream",
          "name": "stdout",
          "text": [
            "\n",
            "\n",
            "\u001b[1m> Entering new AgentExecutor chain...\u001b[0m\n",
            "\u001b[32;1m\u001b[1;3mThought: I need to filter the dataframe to only include rows where the SibSp column is greater than 3, and then count the number of rows.\n",
            "Action: python_repl_ast\n",
            "Action Input: df[df['SibSp'] > 3].count()\u001b[0m\u001b[36;1m\u001b[1;3mPassengerId    30\n",
            "Survived       30\n",
            "Pclass         30\n",
            "Name           30\n",
            "Sex            30\n",
            "Age            23\n",
            "SibSp          30\n",
            "Parch          30\n",
            "Ticket         30\n",
            "Fare           30\n",
            "Cabin           0\n",
            "Embarked       30\n",
            "dtype: int64\u001b[0m\u001b[32;1m\u001b[1;3m30 rows have been counted, but I need to specify which column to count.\n",
            "Action: python_repl_ast\n",
            "Action Input: df[df['SibSp'] > 3]['PassengerId'].count()\u001b[0m\u001b[36;1m\u001b[1;3m30\u001b[0m\u001b[32;1m\u001b[1;3m30 is the final answer.\n",
            "Final Answer: 30\u001b[0m\n",
            "\n",
            "\u001b[1m> Finished chain.\u001b[0m\n"
          ]
        },
        {
          "output_type": "execute_result",
          "data": {
            "text/plain": [
              "{'input': 'how many people have more than 3 siblings?', 'output': '30'}"
            ]
          },
          "metadata": {},
          "execution_count": 22
        }
      ]
    },
    {
      "cell_type": "code",
      "source": [
        "agent.invoke(\"how many kites are in the sky?\")"
      ],
      "metadata": {
        "colab": {
          "base_uri": "https://localhost:8080/"
        },
        "id": "L-9Ex11XKnlj",
        "outputId": "35a9a859-b7f4-4c31-a043-093ede2c1ac5"
      },
      "id": "L-9Ex11XKnlj",
      "execution_count": null,
      "outputs": [
        {
          "output_type": "stream",
          "name": "stdout",
          "text": [
            "\n",
            "\n",
            "\u001b[1m> Entering new AgentExecutor chain...\u001b[0m\n",
            "\u001b[32;1m\u001b[1;3mThought: This is not a valid question for this tool.\n",
            "Final Answer: This is not a valid question for this tool.\u001b[0m\n",
            "\n",
            "\u001b[1m> Finished chain.\u001b[0m\n"
          ]
        },
        {
          "output_type": "execute_result",
          "data": {
            "text/plain": [
              "{'input': 'how many kites are in the sky?',\n",
              " 'output': 'This is not a valid question for this tool.'}"
            ]
          },
          "metadata": {},
          "execution_count": 23
        }
      ]
    }
  ],
  "metadata": {
    "kernelspec": {
      "display_name": "Python 3 (ipykernel)",
      "language": "python",
      "name": "python3"
    },
    "language_info": {
      "codemirror_mode": {
        "name": "ipython",
        "version": 3
      },
      "file_extension": ".py",
      "mimetype": "text/x-python",
      "name": "python",
      "nbconvert_exporter": "python",
      "pygments_lexer": "ipython3",
      "version": "3.11.7"
    },
    "colab": {
      "provenance": []
    }
  },
  "nbformat": 4,
  "nbformat_minor": 5
}